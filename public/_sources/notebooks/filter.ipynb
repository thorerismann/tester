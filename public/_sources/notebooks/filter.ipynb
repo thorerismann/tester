{
 "cells": [
  {
   "cell_type": "markdown",
   "id": "fac04e40-4327-43fc-9e86-04cf95318f78",
   "metadata": {},
   "source": [
    "# Filtering\n",
    "\n",
    "## Introduction\n"
   ]
  },
  {
   "cell_type": "code",
   "execution_count": null,
   "id": "fdda4843-1d0c-47dc-930b-7fb8632d7b73",
   "metadata": {
    "tags": [
     "hide-input"
    ]
   },
   "outputs": [],
   "source": [
    "# import statements\n",
    "\n",
    "# analysis\n",
    "import xarray as xr\n",
    "import copy\n",
    "import pandas as pd\n",
    "import numpy as np\n",
    "import sklearn\n",
    "\n",
    "# visualization\n",
    "import hvplot.xarray\n",
    "import holoviews as hv\n",
    "import matplotlib as plt\n",
    "import bokeh\n",
    "\n",
    "# custom\n",
    "#import filter_classes as fc\n",
    "#import del_manually"
   ]
  },
  {
   "cell_type": "markdown",
   "id": "3f0a5b9f-3ec0-4498-9db5-7d8423c981bd",
   "metadata": {},
   "source": [
    "## Weight and Kipp Filtering"
   ]
  },
  {
   "cell_type": "code",
   "execution_count": null,
   "id": "701a3409-e396-4c7e-ad91-a6cf7ee6248c",
   "metadata": {},
   "outputs": [],
   "source": [
    "### New Stations"
   ]
  },
  {
   "cell_type": "code",
   "execution_count": null,
   "id": "1b3a98b4-9ec9-484b-be77-a766e9b7f368",
   "metadata": {},
   "outputs": [],
   "source": [
    "#### Weight"
   ]
  },
  {
   "cell_type": "code",
   "execution_count": null,
   "id": "f8b7b12b-b8d0-4f64-8235-eabc8c58dabe",
   "metadata": {},
   "outputs": [],
   "source": [
    "#### Kipp"
   ]
  },
  {
   "cell_type": "code",
   "execution_count": null,
   "id": "b8fcdf41-7f7f-4af7-8489-a3f013d65b1b",
   "metadata": {},
   "outputs": [],
   "source": [
    "### Old Stations"
   ]
  },
  {
   "cell_type": "markdown",
   "id": "19f1eb95-6561-483b-b70e-9687429de156",
   "metadata": {
    "tags": []
   },
   "source": [
    "#### Weight"
   ]
  },
  {
   "cell_type": "markdown",
   "id": "5b99fcc1-6315-4575-81ce-39a0e00afb38",
   "metadata": {},
   "source": [
    "#### Kipp"
   ]
  },
  {
   "cell_type": "markdown",
   "id": "a9eae5e6-f5ba-4ca4-99da-e6c186224152",
   "metadata": {},
   "source": [
    "## Sensors"
   ]
  },
  {
   "cell_type": "code",
   "execution_count": null,
   "id": "76a778c7-c251-435a-8609-9c6d9011ab38",
   "metadata": {},
   "outputs": [],
   "source": [
    "### Tensiometers - Soil Pressure"
   ]
  },
  {
   "cell_type": "code",
   "execution_count": null,
   "id": "2f68e18b-33d1-4633-adbc-7da3bc42bb3e",
   "metadata": {},
   "outputs": [],
   "source": [
    "#### EQ - Tensiometer 300"
   ]
  },
  {
   "cell_type": "code",
   "execution_count": null,
   "id": "0b221fe6-04eb-41c1-8084-78a7925874ef",
   "metadata": {},
   "outputs": [],
   "source": [
    "#### Tensiometer 150"
   ]
  },
  {
   "cell_type": "code",
   "execution_count": null,
   "id": "11033379-9dc9-4a2a-842c-39c665acc0f7",
   "metadata": {},
   "outputs": [],
   "source": [
    "### FDR - Soil Moisture Content"
   ]
  },
  {
   "cell_type": "code",
   "execution_count": null,
   "id": "4a1ef1cc-5d9d-4633-affb-3a8c7bcca866",
   "metadata": {},
   "outputs": [],
   "source": [
    "### Temperature"
   ]
  }
 ],
 "metadata": {
  "kernelspec": {
   "display_name": "Jup-env",
   "language": "python",
   "name": "jup"
  },
  "language_info": {
   "codemirror_mode": {
    "name": "ipython",
    "version": 3
   },
   "file_extension": ".py",
   "mimetype": "text/x-python",
   "name": "python",
   "nbconvert_exporter": "python",
   "pygments_lexer": "ipython3",
   "version": "3.10.10"
  }
 },
 "nbformat": 4,
 "nbformat_minor": 5
}
