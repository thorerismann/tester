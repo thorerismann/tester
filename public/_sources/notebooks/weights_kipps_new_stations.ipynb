{
 "cells": [
  {
   "cell_type": "markdown",
   "id": "6c4b1668-c0b5-43b2-8f2e-3ffac250096b",
   "metadata": {},
   "source": [
    "# New Lysimeter Station - Weights and Kipps\n",
    "\n",
    "The new lysimeter station cons"
   ]
  },
  {
   "cell_type": "code",
   "execution_count": null,
   "id": "2eca4e65-dda3-4d99-8a92-a83a632f0844",
   "metadata": {},
   "outputs": [],
   "source": [
    "# import statements\n",
    "\n",
    "# analysis\n",
    "import copy\n",
    "import xarray as xr\n",
    "import pandas as pd\n",
    "import numpy as np\n",
    "\n",
    "# visualization\n",
    "import hvplot.xarray\n",
    "import holoviews as hv\n",
    "import matplotlib.pyplot as plt\n",
    "import bokeh\n",
    "\n",
    "# custom\n",
    "import raw_classes as rc\n",
    "import filter_classes as fc\n",
    "import attach_data as ad\n",
    "\n",
    "# directories\n",
    "\n",
    "old_weights_kipps = 'O:\\\\Data-Work\\\\27_Natural_Resources-RE\\\\273_GSF_Work\\\\Gewaesserschutz\\\\_erga2\\\\data\\\\raw\\\\weights_kipps_old_12.nc'\n",
    "\n",
    "# variables\n",
    "\n",
    "start = '2009-07-01 00:00:00'\n",
    "end = '2023-06-26 23:55:00'\n",
    "interim_dir = 'O:\\\\Data-Work\\\\27_Natural_Resources-RE\\\\273_GSF_Work\\\\Gewaesserschutz\\\\_erga2\\\\data\\\\interim\\\\weights_kipps_new_12.nc'\n",
    "raw_dir = 'O:\\\\Data-Work\\\\27_Natural_Resources-RE\\\\273_GSF_Work\\\\Gewaesserschutz\\\\_erga2\\\\data\\\\raw\\\\weights_kipps_new_12.nc'"
   ]
  },
  {
   "cell_type": "markdown",
   "id": "b32a8d9b-75a9-48f3-9222-359c988576a0",
   "metadata": {},
   "source": [
    "## Raw Data"
   ]
  },
  {
   "cell_type": "markdown",
   "id": "f6e0895b-d252-481a-b0c5-e8a1c23e4e28",
   "metadata": {},
   "source": [
    "### Weights"
   ]
  },
  {
   "cell_type": "markdown",
   "id": "b14ca95b-4316-4d3e-bc34-b16b2d34a4f2",
   "metadata": {},
   "source": [
    "### Kipps"
   ]
  },
  {
   "cell_type": "markdown",
   "id": "3bbea1bf-32a9-4457-b3db-43e89fc4cfb4",
   "metadata": {},
   "source": [
    "import attach_data as ad\n",
    "add_soil = ad.AddSoil()\n",
    "\n",
    "add_soil.interim_dir = 'O:\\\\Data-Work\\\\27_Natural_Resources-RE\\\\273_GSF_Work\\\\Gewaesserschutz\\\\_erga2\\\\data\\\\interim\\\\weights_kipps_old_12.nc'\n",
    "add_soil.raw_dir = 'O:\\\\Data-Work\\\\27_Natural_Resources-RE\\\\273_GSF_Work\\\\Gewaesserschutz\\\\_erga2\\\\data\\\\raw\\\\weights_kipps_old_12.nc'\n",
    "\n",
    "add_soil.set_soil_types()\n",
    "add_soil.save_data()\n",
    "add_soil.dataset"
   ]
  }
 ],
 "metadata": {
  "kernelspec": {
   "display_name": "Jup-env",
   "language": "python",
   "name": "jup"
  },
  "language_info": {
   "codemirror_mode": {
    "name": "ipython",
    "version": 3
   },
   "file_extension": ".py",
   "mimetype": "text/x-python",
   "name": "python",
   "nbconvert_exporter": "python",
   "pygments_lexer": "ipython3",
   "version": "3.10.10"
  }
 },
 "nbformat": 4,
 "nbformat_minor": 5
}
