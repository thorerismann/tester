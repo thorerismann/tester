{
 "cells": [
  {
   "cell_type": "markdown",
   "id": "3882602d-8e36-438a-9ffe-52f686ca16f4",
   "metadata": {},
   "source": [
    "# Interpolate"
   ]
  }
 ],
 "metadata": {
  "kernelspec": {
   "display_name": "Jup-env",
   "language": "python",
   "name": "jup"
  },
  "language_info": {
   "codemirror_mode": {
    "name": "ipython",
    "version": 3
   },
   "file_extension": ".py",
   "mimetype": "text/x-python",
   "name": "python",
   "nbconvert_exporter": "python",
   "pygments_lexer": "ipython3",
   "version": "3.10.10"
  }
 },
 "nbformat": 4,
 "nbformat_minor": 5
}
